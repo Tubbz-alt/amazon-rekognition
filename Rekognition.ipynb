{
 "cells": [
  {
   "cell_type": "code",
   "execution_count": 1,
   "metadata": {},
   "outputs": [],
   "source": [
    "import os\n",
    "import boto3\n",
    "import json"
   ]
  },
  {
   "cell_type": "code",
   "execution_count": 2,
   "metadata": {},
   "outputs": [],
   "source": [
    "bucket_name = 'woi-images'\n",
    "bucket_region = 'eu-west-1'\n",
    "SNSTopicArn = 'arn:aws:sns:region:************:video_resp'\n",
    "RoleArn = 'arn:aws:iam::************:role/user/user_name'"
   ]
  },
  {
   "cell_type": "code",
   "execution_count": 3,
   "metadata": {},
   "outputs": [],
   "source": [
    "rek_client = boto3.client('rekognition', bucket_region)\n",
    "s3_client = boto3.resource('s3', bucket_region)\n",
    "s3_bucket = s3_client.Bucket(bucket_name)\n",
    "file_list = [obj.key for obj in s3_bucket.objects.all()]"
   ]
  },
  {
   "cell_type": "code",
   "execution_count": 17,
   "metadata": {},
   "outputs": [],
   "source": [
    "job_file_name = 'Jobs.txt'\n",
    "if not os.path.exists(job_file_name):\n",
    "    open(job_file_name, 'x').close()\n",
    "index = 0    "
   ]
  },
  {
   "cell_type": "markdown",
   "metadata": {},
   "source": [
    "Amazon Rekognition has a limit for API request. We can make 20 start_person_tracking requests simultaneously."
   ]
  },
  {
   "cell_type": "code",
   "execution_count": 137,
   "metadata": {},
   "outputs": [],
   "source": [
    "open(job_file_name, 'w').close()\n",
    "\n",
    "for file in file_list[index:min(index+20,len(file_list))]:\n",
    "    start_ind = file.index('/')\n",
    "    end_ind = [i for i,val in enumerate(file) if val=='_'][2]\n",
    "    response = rek_client.start_person_tracking(\n",
    "    Video={\n",
    "        'S3Object': {\n",
    "            'Bucket': bucket_name,\n",
    "            'Name': file\n",
    "        }\n",
    "    },\n",
    "    ClientRequestToken=file[start_ind+1:end_ind],\n",
    "    NotificationChannel={\n",
    "        'SNSTopicArn': SNSTopicArn,\n",
    "        'RoleArn': RoleArn\n",
    "    },\n",
    "    JobTag=file[start_ind+1:end_ind]\n",
    ")\n",
    "    if response[\"ResponseMetadata\"][\"HTTPStatusCode\"] == 200:\n",
    "        with open(job_file_name, \"a\") as myfile:\n",
    "            myfile.write(response[\"JobId\"]+\"\\n\")\n",
    "index += 20            "
   ]
  },
  {
   "cell_type": "code",
   "execution_count": 138,
   "metadata": {},
   "outputs": [
    {
     "data": {
      "text/plain": [
       "300"
      ]
     },
     "execution_count": 138,
     "metadata": {},
     "output_type": "execute_result"
    }
   ],
   "source": [
    "index"
   ]
  },
  {
   "cell_type": "code",
   "execution_count": 142,
   "metadata": {},
   "outputs": [
    {
     "data": {
      "text/plain": [
       "'SUCCEEDED'"
      ]
     },
     "execution_count": 142,
     "metadata": {},
     "output_type": "execute_result"
    }
   ],
   "source": [
    "lines = open('Jobs.txt').readlines()\n",
    "\n",
    "last_resp =  rek_client.get_person_tracking(\n",
    "    JobId=lines[len(lines)-1].rstrip()\n",
    ")\n",
    "\n",
    "last_resp[\"JobStatus\"]"
   ]
  },
  {
   "cell_type": "code",
   "execution_count": 143,
   "metadata": {},
   "outputs": [],
   "source": [
    "if last_resp[\"JobStatus\"] == 'SUCCEEDED':\n",
    "    for i in range(len(lines)):\n",
    "        resp = rek_client.get_person_tracking(\n",
    "        JobId=lines[i].rstrip()\n",
    "    )\n",
    "        if resp[\"JobStatus\"] == 'SUCCEEDED':\n",
    "            res = \"./\"+file_list[index-20+i][:-4]+'.json'\n",
    "            os.makedirs(os.path.dirname(res), exist_ok=True)\n",
    "            with open(res, 'w') as outfile:\n",
    "                json.dump(resp, outfile)"
   ]
  }
 ],
 "metadata": {
  "kernelspec": {
   "display_name": "ipyenv_rek",
   "language": "python",
   "name": "ipyenv_rek"
  },
  "language_info": {
   "codemirror_mode": {
    "name": "ipython",
    "version": 3
   },
   "file_extension": ".py",
   "mimetype": "text/x-python",
   "name": "python",
   "nbconvert_exporter": "python",
   "pygments_lexer": "ipython3",
   "version": "3.6.3"
  }
 },
 "nbformat": 4,
 "nbformat_minor": 2
}
